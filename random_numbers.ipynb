{
 "cells": [
  {
   "cell_type": "code",
   "execution_count": 1,
   "id": "c39eff1c",
   "metadata": {},
   "outputs": [],
   "source": [
    "# Import the random module.\n",
    "import random"
   ]
  },
  {
   "cell_type": "code",
   "execution_count": 2,
   "id": "8a3c2c5d",
   "metadata": {},
   "outputs": [
    {
     "data": {
      "text/plain": [
       "-14"
      ]
     },
     "execution_count": 2,
     "metadata": {},
     "output_type": "execute_result"
    }
   ],
   "source": [
    "random.randint(-90, 90)"
   ]
  },
  {
   "cell_type": "code",
   "execution_count": 3,
   "id": "ac7f04a5",
   "metadata": {},
   "outputs": [
    {
     "data": {
      "text/plain": [
       "0.27634800888231237"
      ]
     },
     "execution_count": 3,
     "metadata": {},
     "output_type": "execute_result"
    }
   ],
   "source": [
    "random.random()"
   ]
  },
  {
   "cell_type": "code",
   "execution_count": 4,
   "id": "1198515d",
   "metadata": {},
   "outputs": [
    {
     "data": {
      "text/plain": [
       "-63.29247828656008"
      ]
     },
     "execution_count": 4,
     "metadata": {},
     "output_type": "execute_result"
    }
   ],
   "source": [
    "random_number = random.randint(-90, 89) + random.random()\n",
    "random_number"
   ]
  },
  {
   "cell_type": "code",
   "execution_count": 9,
   "id": "d04781ea",
   "metadata": {},
   "outputs": [
    {
     "data": {
      "text/plain": [
       "[-10.332556896974523,\n",
       " 73.39629868997528,\n",
       " 3.8360113663714372,\n",
       " -19.456153915825183,\n",
       " -26.573091839411475,\n",
       " -38.49292251518735,\n",
       " -73.40529017702904,\n",
       " -69.38127068697727,\n",
       " -16.041915151483337,\n",
       " 25.868999789685816]"
      ]
     },
     "execution_count": 9,
     "metadata": {},
     "output_type": "execute_result"
    }
   ],
   "source": [
    "x = 1\n",
    "latitudes = []\n",
    "while x < 11:\n",
    "    random_lat = random.uniform(-90, 89)\n",
    "    latitudes.append(random_lat)\n",
    "    x += 1\n",
    "latitudes"
   ]
  },
  {
   "cell_type": "code",
   "execution_count": 10,
   "id": "5b14cf2e",
   "metadata": {},
   "outputs": [],
   "source": [
    "# Import the NumPy module.\n",
    "import numpy as np"
   ]
  },
  {
   "cell_type": "code",
   "execution_count": 12,
   "id": "13991066",
   "metadata": {},
   "outputs": [
    {
     "data": {
      "text/plain": [
       "array([-46.57798516,  58.08723299,  40.49314962, -70.81351284,\n",
       "        44.10354829,  80.51576159,  51.78342313,   7.560916  ,\n",
       "       -48.21128996,  76.58569665, -24.99076029,  19.84648038,\n",
       "       -20.95400135,  76.91050361, -58.88514388, -80.11679271,\n",
       "       -17.60305241, -33.64725438, -86.69446373, -86.39411721,\n",
       "        47.41490293, -53.08005347,  54.1964501 ,  60.97419843,\n",
       "        49.15788471,  56.47680143, -43.15242772, -56.1421752 ,\n",
       "       -24.5836277 , -15.17680911, -57.94756402,  58.8428451 ,\n",
       "       -22.26213176, -61.29055127,  51.02634551, -30.82149159,\n",
       "        55.4749542 ,  30.80347685,  39.19003383,  34.23943185,\n",
       "        41.77299513,  69.28683374,   9.18333226,  37.35827684,\n",
       "       -79.27435589,  68.82981887, -49.17156383, -24.37360556,\n",
       "        11.39667375,  38.89659629])"
      ]
     },
     "execution_count": 12,
     "metadata": {},
     "output_type": "execute_result"
    }
   ],
   "source": [
    "np.random.uniform(-90.000, 90.000, size = 50)"
   ]
  },
  {
   "cell_type": "code",
   "execution_count": 21,
   "id": "72254ed7",
   "metadata": {},
   "outputs": [],
   "source": [
    "# Import timeit.\n",
    "import timeit"
   ]
  },
  {
   "cell_type": "code",
   "execution_count": 22,
   "id": "a624bdcb",
   "metadata": {},
   "outputs": [
    {
     "name": "stdout",
     "output_type": "stream",
     "text": [
      "13 µs ± 105 ns per loop (mean ± std. dev. of 7 runs, 100000 loops each)\n"
     ]
    }
   ],
   "source": [
    "%timeit np.random.uniform(-90.000, 90.000, size=1500)"
   ]
  },
  {
   "cell_type": "code",
   "execution_count": 23,
   "id": "d393a852",
   "metadata": {},
   "outputs": [
    {
     "name": "stdout",
     "output_type": "stream",
     "text": [
      "1.59 ms ± 10.9 µs per loop (mean ± std. dev. of 7 runs, 1000 loops each)\n"
     ]
    }
   ],
   "source": [
    "def latitudes(size):\n",
    "    latitudes = []\n",
    "    x = 0\n",
    "    while x < (size):\n",
    "        random_lat = random.randint(-90, 90) + random.random()\n",
    "        latitudes.append(random_lat)\n",
    "        x += 1\n",
    "    print(latitudes)\n",
    "# Call the function with 1500.\n",
    "%timeit latitudes(1500)"
   ]
  },
  {
   "cell_type": "code",
   "execution_count": 24,
   "id": "6745be28",
   "metadata": {},
   "outputs": [
    {
     "data": {
      "text/plain": [
       "<function __main__.latitudes(size)>"
      ]
     },
     "execution_count": 24,
     "metadata": {},
     "output_type": "execute_result"
    }
   ],
   "source": [
    "latitudes"
   ]
  },
  {
   "cell_type": "code",
   "execution_count": null,
   "id": "afacbdcc",
   "metadata": {},
   "outputs": [],
   "source": []
  }
 ],
 "metadata": {
  "kernelspec": {
   "display_name": "PythonData",
   "language": "python",
   "name": "pythondata"
  },
  "language_info": {
   "codemirror_mode": {
    "name": "ipython",
    "version": 3
   },
   "file_extension": ".py",
   "mimetype": "text/x-python",
   "name": "python",
   "nbconvert_exporter": "python",
   "pygments_lexer": "ipython3",
   "version": "3.7.10"
  }
 },
 "nbformat": 4,
 "nbformat_minor": 5
}
